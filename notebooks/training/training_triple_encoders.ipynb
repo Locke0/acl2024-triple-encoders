{
 "cells": [
  {
   "cell_type": "markdown",
   "source": [
    "# Training Triple Encoders\n",
    "\n",
    "this notebook reports the hyperparameter used for training\n",
    "\n",
    "## Important Installation Instructions\n",
    "Triple Encoders are build upon Sentence Transformers. At this point, our  loss function and evaluator are not yet integrated into the Sentence Transformers library. \n",
    "After installing Sentence Transformers, you can add the files in  `sentence-transformers` to the respective directories in the sentence-transformers library. \n",
    "This will allow you to train your own triple encoders with Contextualized Curved Contrastive Learning (C3L) loss and Triple Similarity Evaluator."
   ],
   "metadata": {
    "collapsed": false
   },
   "id": "96aab6800eb2df0d"
  },
  {
   "cell_type": "code",
   "outputs": [],
   "source": [
    "import torch\n",
    "from triple_encoders.trainer import TripleEncoderTrainer\n",
    "\n",
    "base_model_name_or_path = \"CCL_pretrained_GTE\"\n",
    "batch_size = 48\n",
    "observation_window = 5\n",
    "speaker_token = True\n",
    "num_epochs = 10\n",
    "warmup_steps = 1000\n",
    "\n",
    "trainer = TripleEncoderTrainer(\n",
    "    base_model_name_or_path=base_model_name_or_path,\n",
    "    batch_size=batch_size,\n",
    "    observation_window=observation_window,\n",
    "    speaker_token=speaker_token,\n",
    "    num_epochs=num_epochs,\n",
    "    warmup_steps=warmup_steps\n",
    ")"
   ],
   "metadata": {
    "collapsed": false
   },
   "id": "851e5a6205766ad5"
  },
  {
   "cell_type": "code",
   "outputs": [],
   "source": [
    "from datasets import load_dataset\n",
    "\n",
    "# load daily_dialog\n",
    "dataset = load_dataset(\"daily_dialog\")\n",
    "\n",
    "# generate dataset\n",
    "trainer.generate_datasets(\n",
    "    dataset[\"train\"][\"dialog\"],\n",
    "    dataset[\"validation\"][\"dialog\"],\n",
    "    dataset[\"test\"][\"dialog\"],\n",
    ")"
   ],
   "metadata": {
    "collapsed": false
   },
   "id": "82b6a762eeda84c0"
  },
  {
   "cell_type": "code",
   "outputs": [],
   "source": [
    "model_save_path = \"./gte-large-triple-encoder\"\n",
    "lr = 2e-5\n",
    "\n",
    "trainer.train(\n",
    "    model_save_path\n",
    ")"
   ],
   "metadata": {
    "collapsed": false
   },
   "id": "2bc5a5332777ca87"
  }
 ],
 "metadata": {
  "kernelspec": {
   "display_name": "Python 3",
   "language": "python",
   "name": "python3"
  },
  "language_info": {
   "codemirror_mode": {
    "name": "ipython",
    "version": 2
   },
   "file_extension": ".py",
   "mimetype": "text/x-python",
   "name": "python",
   "nbconvert_exporter": "python",
   "pygments_lexer": "ipython2",
   "version": "2.7.6"
  }
 },
 "nbformat": 4,
 "nbformat_minor": 5
}
