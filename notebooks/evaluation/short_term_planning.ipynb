{
 "cells": [
  {
   "cell_type": "markdown",
   "source": [
    "# Triple Encoder Short-Term Planning (STP) Evaluation\n"
   ],
   "metadata": {
    "collapsed": false
   },
   "id": "a90167c1937226d3"
  },
  {
   "cell_type": "code",
   "execution_count": null,
   "id": "initial_id",
   "metadata": {
    "collapsed": true
   },
   "outputs": [],
   "source": [
    "from triple_encoder.TripleEncodersForSTP import TripleEncodersForSTP\n",
    "from datasets import load_dataset\n",
    "\n",
    "model_path = \"anonym\"\n",
    "\n",
    "dataset = load_dataset(\"daily_dialog\")\n",
    "test = dataset['test']['dialog']\n",
    "\n",
    "model = TripleEncodersForSTP(model_path)"
   ]
  },
  {
   "cell_type": "code",
   "outputs": [],
   "source": [
    "df = model.evaluate_stp_dataset('dataset')\n",
    "df"
   ],
   "metadata": {
    "collapsed": false
   },
   "id": "a3271cc92cb89576"
  }
 ],
 "metadata": {
  "kernelspec": {
   "display_name": "Python 3",
   "language": "python",
   "name": "python3"
  },
  "language_info": {
   "codemirror_mode": {
    "name": "ipython",
    "version": 2
   },
   "file_extension": ".py",
   "mimetype": "text/x-python",
   "name": "python",
   "nbconvert_exporter": "python",
   "pygments_lexer": "ipython2",
   "version": "2.7.6"
  }
 },
 "nbformat": 4,
 "nbformat_minor": 5
}
