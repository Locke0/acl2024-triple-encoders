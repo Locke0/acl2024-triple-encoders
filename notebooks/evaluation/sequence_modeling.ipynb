{
 "cells": [
  {
   "cell_type": "markdown",
   "source": [
    "# Triple Encoder Sequence Modeling Evaluation"
   ],
   "metadata": {
    "collapsed": false
   },
   "id": "e8ca4ab3957f66d5"
  },
  {
   "cell_type": "code",
   "execution_count": null,
   "id": "initial_id",
   "metadata": {
    "collapsed": true
   },
   "outputs": [],
   "source": [
    "from datasets import load_dataset\n",
    "from triple_encoders.TripleEncoders import TripleEncodersForConversationalSequenceModeling\n",
    "\n",
    "dataset = load_dataset(\"daily_dialog\")\n",
    "test = dataset['test']['dialog']\n",
    "\n",
    "model = TripleEncodersForConversationalSequenceModeling(\"path_to_model\")"
   ]
  },
  {
   "cell_type": "code",
   "outputs": [],
   "source": [
    "df = model.evaluate_seq_dataset(test)"
   ],
   "metadata": {
    "collapsed": false
   },
   "id": "8fe6493b48021021"
  }
 ],
 "metadata": {
  "kernelspec": {
   "display_name": "Python 3",
   "language": "python",
   "name": "python3"
  },
  "language_info": {
   "codemirror_mode": {
    "name": "ipython",
    "version": 2
   },
   "file_extension": ".py",
   "mimetype": "text/x-python",
   "name": "python",
   "nbconvert_exporter": "python",
   "pygments_lexer": "ipython2",
   "version": "2.7.6"
  }
 },
 "nbformat": 4,
 "nbformat_minor": 5
}
